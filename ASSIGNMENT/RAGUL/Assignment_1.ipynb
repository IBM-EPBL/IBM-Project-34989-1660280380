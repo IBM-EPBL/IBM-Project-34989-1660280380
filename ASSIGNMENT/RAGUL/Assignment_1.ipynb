{
  "metadata": {
    "language_info": {
      "codemirror_mode": {
        "name": "python",
        "version": 3
      },
      "file_extension": ".py",
      "mimetype": "text/x-python",
      "name": "python",
      "nbconvert_exporter": "python",
      "pygments_lexer": "ipython3",
      "version": "3.8"
    },
    "kernelspec": {
      "name": "python",
      "display_name": "Python (Pyodide)",
      "language": "python"
    }
  },
  "nbformat_minor": 4,
  "nbformat": 4,
  "cells": [
    {
      "cell_type": "code",
      "source": "# 1.split this string\n\ns=\"Hi there Sam!\"\noutput=s.split()\nprint(output)\n",
      "metadata": {
        "trusted": true
      },
      "execution_count": 1,
      "outputs": [
        {
          "name": "stdout",
          "text": "['Hi', 'there', 'Sam!']\n",
          "output_type": "stream"
        }
      ]
    },
    {
      "cell_type": "code",
      "source": "# 2. Use .format() to print the following string.\n\nplanet=\"Earth\"\ndiameter=12742\n\nprint(\" The diameter of the {} is {} kilometers.\".format(planet,diameter))",
      "metadata": {
        "trusted": true
      },
      "execution_count": 3,
      "outputs": [
        {
          "name": "stdout",
          "text": " The diameter of the Earth is 12742 kilometers.\n",
          "output_type": "stream"
        }
      ]
    },
    {
      "cell_type": "code",
      "source": "# 3.In this nest dictionary grap the world \"hello\"\n\nd={'k1':[1,2,3,{'tricky':['oh','man','inception',{'target':[1,2,3,'hello']}]}]}\n",
      "metadata": {
        "trusted": true
      },
      "execution_count": 4,
      "outputs": []
    },
    {
      "cell_type": "code",
      "source": "# 4. create an array of 10 zeros\n#  create an array of 10 Fives\na=[]\nb=[]\nfor i in range(0,10):\n    a.append(0)\n    b.append(5)\nprint(a)\nprint(b)\n    \n    \n",
      "metadata": {
        "trusted": true
      },
      "execution_count": 7,
      "outputs": [
        {
          "name": "stdout",
          "text": "[0, 0, 0, 0, 0, 0, 0, 0, 0, 0]\n[5, 5, 5, 5, 5, 5, 5, 5, 5, 5]\n",
          "output_type": "stream"
        }
      ]
    },
    {
      "cell_type": "code",
      "source": "# 5.create an array of all the even integers from 20 to 35\n\na=[]\nstart=20\nend=35\nfor i in range(start,end+1):\n    if i%2==0:\n        a.append(i)\nprint(a)",
      "metadata": {
        "trusted": true
      },
      "execution_count": 8,
      "outputs": [
        {
          "name": "stdout",
          "text": "[20, 22, 24, 26, 28, 30, 32, 34]\n",
          "output_type": "stream"
        }
      ]
    },
    {
      "cell_type": "code",
      "source": "# 6. create a 3*3 matrix with values ranging from 0 to 8\n\nimport numpy as np\n\nx=np.arange(0,9).reshape(3,3)\nprint(x)\n",
      "metadata": {
        "trusted": true
      },
      "execution_count": 11,
      "outputs": [
        {
          "name": "stdout",
          "text": "[[0 1 2]\n [3 4 5]\n [6 7 8]]\n",
          "output_type": "stream"
        }
      ]
    },
    {
      "cell_type": "code",
      "source": "#7. Concatinate a and b\na=[1,2,3]\nb=[4,5,6]\nres=a+b\nprint(res)\n\n",
      "metadata": {
        "trusted": true
      },
      "execution_count": 13,
      "outputs": [
        {
          "name": "stdout",
          "text": "[1, 2, 3, 4, 5, 6]\n",
          "output_type": "stream"
        }
      ]
    },
    {
      "cell_type": "code",
      "source": "#8.Create a dataframe with 3 rows and 2 columns\n\nimport pandas as pd\ndata=[['tom',10],['nick',15]]\ndf=pd.DataFrame(data,columns=['Name','Age'])\nprint(df)\n\n\n\n",
      "metadata": {
        "trusted": true
      },
      "execution_count": 16,
      "outputs": [
        {
          "name": "stdout",
          "text": "   Name  Age\n0   tom   10\n1  nick   15\n",
          "output_type": "stream"
        }
      ]
    },
    {
      "cell_type": "code",
      "source": "#9.Generate the series of dates from 1st jan,2023 to 10th feb,2023\n\nimport datetime\nimport pandas as pd\nstart = datetime.datetime.strptime(\"01-01-2023\", \"%d-%m-%Y\")\nend = datetime.datetime.strptime(\"10-02-2023\", \"%d-%m-%Y\")\ndate_generated = pd.date_range(start, end)\nprint (date_generated.strftime(\"%d-%m-%Y\")) ",
      "metadata": {
        "trusted": true
      },
      "execution_count": 22,
      "outputs": [
        {
          "name": "stdout",
          "text": "Index(['01-01-2023', '02-01-2023', '03-01-2023', '04-01-2023', '05-01-2023',\n       '06-01-2023', '07-01-2023', '08-01-2023', '09-01-2023', '10-01-2023',\n       '11-01-2023', '12-01-2023', '13-01-2023', '14-01-2023', '15-01-2023',\n       '16-01-2023', '17-01-2023', '18-01-2023', '19-01-2023', '20-01-2023',\n       '21-01-2023', '22-01-2023', '23-01-2023', '24-01-2023', '25-01-2023',\n       '26-01-2023', '27-01-2023', '28-01-2023', '29-01-2023', '30-01-2023',\n       '31-01-2023', '01-02-2023', '02-02-2023', '03-02-2023', '04-02-2023',\n       '05-02-2023', '06-02-2023', '07-02-2023', '08-02-2023', '09-02-2023',\n       '10-02-2023'],\n      dtype='object')\n",
          "output_type": "stream"
        }
      ]
    },
    {
      "cell_type": "code",
      "source": "#10.Create 2D list to dataframe\n\nimport pandas as pd\n\nlists=[[1,\"aaa\",22],[2,\"bbb\",25],[3,\"ccc\",24]]\ndf=pd.DataFrame(dt,columns=[\"d\"])\nprint(df)\n",
      "metadata": {
        "trusted": true
      },
      "execution_count": 26,
      "outputs": [
        {
          "ename": "<class 'IndentationError'>",
          "evalue": "expected an indented block after 'for' statement on line 7 (<ipython-input-26-ee941f490123>, line 10)",
          "traceback": [
            "\u001b[0;36m  Cell \u001b[0;32mIn [26], line 10\u001b[0;36m\u001b[0m\n\u001b[0;31m    dt=zip(lists)\u001b[0m\n\u001b[0m                 ^\u001b[0m\n\u001b[0;31mIndentationError\u001b[0m\u001b[0;31m:\u001b[0m expected an indented block after 'for' statement on line 7\n"
          ],
          "output_type": "error"
        }
      ]
    },
    {
      "cell_type": "code",
      "source": "",
      "metadata": {},
      "execution_count": null,
      "outputs": []
    }
  ]
}